{
  "nbformat": 4,
  "nbformat_minor": 0,
  "metadata": {
    "colab": {
      "name": "Redes-recurrentes-Alumnos-C.ipynb",
      "provenance": [],
      "collapsed_sections": [],
      "toc_visible": true
    },
    "kernelspec": {
      "name": "python3",
      "display_name": "Python 3"
    },
    "accelerator": "GPU"
  },
  "cells": [
    {
      "cell_type": "markdown",
      "metadata": {
        "id": "N_kigFSYTVQ0",
        "colab_type": "text"
      },
      "source": [
        "# Laboratorio 06: Redes Recurrentes\n",
        "\n",
        "**Objetivo:** Clasificar de apellidos, según su nacionalidad, utilizando un modelo simple de redes neuronales recurrentes. (A nivel de caracter) \n",
        "\n",
        "**Descripción:**\n",
        "\n",
        "Construiremos y entrenaremos un RNN de nivel básico para clasificar palabras. Este tutorial, junto con los dos siguientes, muestra cómo hacer el preprocesamiento de datos para el modelado de un proceso de lenguaje natural (NPL) \"desde cero\". Se utilizarán algunas de las funciones  de *torchtext*, de modo que se pueda ver cómo el preprocesamiento para el modelado de NPL funciona a bajo nivel.\n",
        "\n",
        "Una RNN a nivel de carácter lee las palabras como una serie de caracteres - produciendo una predicción y un \"estado oculto\" en cada paso, alimentando su estado oculto anterior en cada paso siguiente. Tomamos la predicción final como salida, es decir, a qué clase pertenece la palabra.\n",
        "\n",
        "Específicamente, entrenaremos en unos pocos miles de apellidos de 18 idiomas de origen, y predeciremos de qué idioma proviene un nombre basándonos en la ortografía.\n",
        "\n",
        "\n",
        "\n",
        "---\n",
        "NLP From Scratch: Classifying Names with a Character-Level RNN\n",
        "\n",
        "**Autor:** Sean Robertson <https://github.com/spro/practical-pytorch>_\n"
      ]
    },
    {
      "cell_type": "code",
      "metadata": {
        "id": "LZSHMXpWTCI3",
        "colab_type": "code",
        "colab": {}
      },
      "source": [
        "%matplotlib inline"
      ],
      "execution_count": 19,
      "outputs": []
    },
    {
      "cell_type": "markdown",
      "metadata": {
        "id": "Df5iZZvbRLOA",
        "colab_type": "text"
      },
      "source": [
        "**Cargar los datos de Google Drive**"
      ]
    },
    {
      "cell_type": "code",
      "metadata": {
        "id": "rj1ql----tSA",
        "colab_type": "code",
        "colab": {
          "base_uri": "https://localhost:8080/",
          "height": 34
        },
        "outputId": "1b190192-a5f5-45ea-c379-f8769aa48790"
      },
      "source": [
        "from google.colab import drive\n",
        "drive.mount('/content/drive')"
      ],
      "execution_count": 20,
      "outputs": [
        {
          "output_type": "stream",
          "text": [
            "Drive already mounted at /content/drive; to attempt to forcibly remount, call drive.mount(\"/content/drive\", force_remount=True).\n"
          ],
          "name": "stdout"
        }
      ]
    },
    {
      "cell_type": "markdown",
      "metadata": {
        "id": "qVIx_MEvUxpJ",
        "colab_type": "text"
      },
      "source": [
        "## 1. Preparando los \n",
        "Bajar la base de datos de apellidos `aquí <https://download.pytorch.org/tutorial/data.zip>`.\n",
        "\n",
        "Extraer estos en el directorio actual.\n",
        "\n",
        "En ``data/names`` se encuentran 18 textos en archivos llamados \"[lenguaje].txt\". Cada archivo contiene apellidos, uno por línea, la mayoría normalizados (pero deben ser convertidos de Unicode a ASCII).\n",
        "\n",
        "Terminaremos con un diccionario con listas de nombres por idioma,\n",
        "``Idioma: [nombres ...]}``. Las variables genéricas \"categoría\" y \"línea\"\n",
        "(para el lenguaje y el nombre en nuestro caso) se utilizan para su posterior ampliación."
      ]
    },
    {
      "cell_type": "code",
      "metadata": {
        "id": "9V5dOxa3YQq9",
        "colab_type": "code",
        "colab": {
          "base_uri": "https://localhost:8080/",
          "height": 51
        },
        "outputId": "25ff27cd-0bf5-422e-e537-708ad3fcd169"
      },
      "source": [
        "import unicodedata\n",
        "import string\n",
        "import glob # Esta instruccion para los nombres de un archivo dado un path\n",
        "import os\n",
        "\n",
        "PATH_TEXT = '/content/drive/My Drive/D-UCN/Classes/TecnicasAvanzadasAprendizajeAutomatico/Laboratorios/Laboratorio06:RedesRecurrentes/database/names'\n",
        "\n",
        "all_letters = string.ascii_letters + \" .,;'\"\n",
        "n_letters = len(all_letters)\n",
        "\n",
        "print(n_letters)\n",
        "\n",
        "# Convertir el código Unicode al texto ASCII (https://stackoverflow.com/a/518232/2809427)\n",
        "def unicodeToAscii(s):\n",
        "  return ''.join(\n",
        "      c for c in unicodedata.normalize('NFD', s)\n",
        "      if unicodedata.category(c) != 'Mn'\n",
        "      and c in all_letters\n",
        "  )\n",
        "\n",
        "#print(unicodeToAscii('Ślusàrski'))\n",
        "\n",
        "# Leer los archivos y los cargaremos en un estructura de tipo diccionario\n",
        "category_lines = {}\n",
        "all_categories = []\n",
        "\n",
        "def readLines(filenames):\n",
        "  lines = open(filename, encoding='utf-8').read().strip().split('\\n')\n",
        "  return [unicodeToAscii(line) for line in lines]\n",
        "\n",
        "for filename in glob.glob(f'{PATH_TEXT}/*.txt'):\n",
        "  category = os.path.splitext(os.path.basename(filename))[0]\n",
        "  all_categories.append(category)\n",
        "  lines = readLines(filename)\n",
        "  category_lines[category] = lines\n",
        "\n",
        "n_categories = len(all_categories)\n",
        "print(n_categories)"
      ],
      "execution_count": 33,
      "outputs": [
        {
          "output_type": "stream",
          "text": [
            "57\n",
            "18\n"
          ],
          "name": "stdout"
        }
      ]
    },
    {
      "cell_type": "markdown",
      "metadata": {
        "id": "bLj5VD6iYfWN",
        "colab_type": "text"
      },
      "source": [
        "Ahora tenemos `category_lines`, un diccionario que mapea cada categoría (idioma) a una lista de líneas (nombres). También llevamos un registro de `all_categories` (sólo una lista de idiomas) y `n_categories` para su posterior referencia."
      ]
    },
    {
      "cell_type": "code",
      "metadata": {
        "id": "J3hbZSkxY3GD",
        "colab_type": "code",
        "colab": {
          "base_uri": "https://localhost:8080/",
          "height": 54
        },
        "outputId": "2eada860-1aa8-4101-93a3-ac277f473de2"
      },
      "source": [
        "print(all_categories)"
      ],
      "execution_count": 22,
      "outputs": [
        {
          "output_type": "stream",
          "text": [
            "['Vietnamese', 'Spanish', 'Japanese', 'Korean', 'English', 'Scottish', 'German', 'Irish', 'Chinese', 'Polish', 'Italian', 'Russian', 'Dutch', 'Portuguese', 'French', 'Czech', 'Arabic', 'Greek']\n"
          ],
          "name": "stdout"
        }
      ]
    },
    {
      "cell_type": "code",
      "metadata": {
        "id": "oryk6ERs1eQR",
        "colab_type": "code",
        "colab": {
          "base_uri": "https://localhost:8080/",
          "height": 34
        },
        "outputId": "e2eee6c7-5a54-48ea-8029-f7a2ab257ee5"
      },
      "source": [
        "print(category_lines['Greek'][:5])"
      ],
      "execution_count": 23,
      "outputs": [
        {
          "output_type": "stream",
          "text": [
            "['Adamidis', 'Adamou', 'Agelakos', 'Akrivopoulos', 'Alexandropoulos']\n"
          ],
          "name": "stdout"
        }
      ]
    },
    {
      "cell_type": "markdown",
      "metadata": {
        "id": "EozPr7wIY5Ub",
        "colab_type": "text"
      },
      "source": [
        "## 2. Convirtiendo los nombres a tensores\n",
        "\n",
        "Ahora que tenemos todos los nombres organizados, necesitamos convertirlos en\n",
        "Tensores para hacer cualquier uso de ellos.\n",
        "\n",
        "Para representar una sola **letra**, usamos un \"***one-hot vector***\" de tamaño `<1 x n_letters>`. Un vector de una letra (***one-hot vector***), consiste en un arreglo que contiene ceros y un (uno solo) en el índice de la letra que se quiere representar. Por ejemplo, `\"b\"= <0 1 0 0 0 ...>`.\n",
        "\n",
        "Para representar una **palabra** unimos varios vectores de una letra en una matriz 2D `<line_length x 1 x n_letters>`.\n",
        "\n",
        "La dimesión 1 extra indica a Pytorch que esa estructura está en lotes (*batch*), indicando que el tamaño del lote es uno.\n"
      ]
    },
    {
      "cell_type": "code",
      "metadata": {
        "id": "dtyEfy5qa18Q",
        "colab_type": "code",
        "colab": {
          "base_uri": "https://localhost:8080/",
          "height": 510
        },
        "outputId": "606f0ea7-825c-4ebf-8044-9de3075e539a"
      },
      "source": [
        "import torch\n",
        "\n",
        "# Encontrar el indice de una letra en all_letters\n",
        "def letterToIndex(letter):\n",
        "  return all_letters.find(letter)\n",
        "\n",
        "# Construir un vector one-hot letter (Ilustrativo)\n",
        "def letterToTensor(letter):\n",
        "  tensor = torch.zeros(1, n_letters)\n",
        "  tensor[0][letterToIndex(letter)] = 1\n",
        "  return tensor\n",
        "\n",
        "def lineToTensor(line):\n",
        "  tensor = torch.zeros(len(line), 1, n_letters)\n",
        "  for li, letter in enumerate(line):\n",
        "    tensor[li][0][letterToIndex(letter)] = 1\n",
        "\n",
        "  return tensor\n",
        "\n",
        "print(lineToTensor('bekios'))"
      ],
      "execution_count": 24,
      "outputs": [
        {
          "output_type": "stream",
          "text": [
            "tensor([[[0., 1., 0., 0., 0., 0., 0., 0., 0., 0., 0., 0., 0., 0., 0., 0., 0.,\n",
            "          0., 0., 0., 0., 0., 0., 0., 0., 0., 0., 0., 0., 0., 0., 0., 0., 0.,\n",
            "          0., 0., 0., 0., 0., 0., 0., 0., 0., 0., 0., 0., 0., 0., 0., 0., 0.,\n",
            "          0., 0., 0., 0., 0., 0.]],\n",
            "\n",
            "        [[0., 0., 0., 0., 1., 0., 0., 0., 0., 0., 0., 0., 0., 0., 0., 0., 0.,\n",
            "          0., 0., 0., 0., 0., 0., 0., 0., 0., 0., 0., 0., 0., 0., 0., 0., 0.,\n",
            "          0., 0., 0., 0., 0., 0., 0., 0., 0., 0., 0., 0., 0., 0., 0., 0., 0.,\n",
            "          0., 0., 0., 0., 0., 0.]],\n",
            "\n",
            "        [[0., 0., 0., 0., 0., 0., 0., 0., 0., 0., 1., 0., 0., 0., 0., 0., 0.,\n",
            "          0., 0., 0., 0., 0., 0., 0., 0., 0., 0., 0., 0., 0., 0., 0., 0., 0.,\n",
            "          0., 0., 0., 0., 0., 0., 0., 0., 0., 0., 0., 0., 0., 0., 0., 0., 0.,\n",
            "          0., 0., 0., 0., 0., 0.]],\n",
            "\n",
            "        [[0., 0., 0., 0., 0., 0., 0., 0., 1., 0., 0., 0., 0., 0., 0., 0., 0.,\n",
            "          0., 0., 0., 0., 0., 0., 0., 0., 0., 0., 0., 0., 0., 0., 0., 0., 0.,\n",
            "          0., 0., 0., 0., 0., 0., 0., 0., 0., 0., 0., 0., 0., 0., 0., 0., 0.,\n",
            "          0., 0., 0., 0., 0., 0.]],\n",
            "\n",
            "        [[0., 0., 0., 0., 0., 0., 0., 0., 0., 0., 0., 0., 0., 0., 1., 0., 0.,\n",
            "          0., 0., 0., 0., 0., 0., 0., 0., 0., 0., 0., 0., 0., 0., 0., 0., 0.,\n",
            "          0., 0., 0., 0., 0., 0., 0., 0., 0., 0., 0., 0., 0., 0., 0., 0., 0.,\n",
            "          0., 0., 0., 0., 0., 0.]],\n",
            "\n",
            "        [[0., 0., 0., 0., 0., 0., 0., 0., 0., 0., 0., 0., 0., 0., 0., 0., 0.,\n",
            "          0., 1., 0., 0., 0., 0., 0., 0., 0., 0., 0., 0., 0., 0., 0., 0., 0.,\n",
            "          0., 0., 0., 0., 0., 0., 0., 0., 0., 0., 0., 0., 0., 0., 0., 0., 0.,\n",
            "          0., 0., 0., 0., 0., 0.]]])\n"
          ],
          "name": "stdout"
        }
      ]
    },
    {
      "cell_type": "markdown",
      "metadata": {
        "id": "DexIKj84gf4i",
        "colab_type": "text"
      },
      "source": [
        "## 3. Creando la red\n",
        "\n",
        "Antes del *autograd*, la creación de una red neural recurrente en Torch implicaba\n",
        "clonar los parámetros de una capa en varios pasos de tiempo. Las capas\n",
        "mantenían estados y gradientes ocultos que ahora son manejados enteramente por la librería. Esto significa que puedes implementar un RNN de una manera muy \"pura\", como capas regulares de alimentación...\n",
        "\n",
        "Este módulo RNN (en su mayoría copiado de \"The PyTorch for Torch users\")\n",
        "tutorial <https://pytorch.org/tutorials/beginner/former_torchies/\n",
        "nn_tutorial.html#example-2-recurrent-net>`__)\n",
        "son sólo 2 capas lineales que operan en un estado de entrada y oculto, con\n",
        "una capa de LogSoftmax después de la salida.\n",
        "\n",
        "Figura:: https://i.imgur.com/Z2xbySO.png\n",
        "\n",
        "Figura [(softmax)](https://cdn-images-1.medium.com/freeze/max/1000/1*ghDbeGZZUloPOJK7g3OyBg.png?q=20)::\n",
        "\n"
      ]
    },
    {
      "cell_type": "code",
      "metadata": {
        "id": "n2OHMKgOghYc",
        "colab_type": "code",
        "colab": {}
      },
      "source": [
        "import torch.nn as nn\n",
        "\n",
        "class RNN(nn.Module):\n",
        "  def __init__(self, input_size, hidden_size, output_size):\n",
        "    super(RNN, self).__init__()\n",
        "\n",
        "    # Construir componentes\n",
        "    self.hidden_size = hidden_size\n",
        "    # Salida de estado oculto\n",
        "    self.i2h = nn.Linear(input_size + hidden_size, hidden_size)\n",
        "    # Salida a estimar\n",
        "    self.i2o = nn.Linear(input_size + hidden_size, output_size)\n",
        "    self.softmax = nn.LogSoftmax(dim=1)\n",
        "\n",
        "  def forward(self, input, hidden):\n",
        "    combined = torch.cat((input, hidden), 1) # vector --> [1 x (input + hidden)]\n",
        "    hidden = self.i2h(combined)\n",
        "    output = self.i2o(combined)\n",
        "    output = self.softmax(output)\n",
        "    return output, hidden\n",
        "\n",
        "  def initHidden(self):\n",
        "    return torch.zeros(1, self.hidden_size)\n",
        "\n",
        "n_hidden = 128\n",
        "\n",
        "# n_letters --> Cantidad de letras que uso para representar mis palabras (57)\n",
        "# n_hidden --> Tamaño del vector de estado oculto (128)\n",
        "# n_categories --> La cantidad de paises (18)\n",
        "rnn = RNN(n_letters, n_hidden, n_categories)"
      ],
      "execution_count": 25,
      "outputs": []
    },
    {
      "cell_type": "markdown",
      "metadata": {
        "id": "nkxMoHhkjsrU",
        "colab_type": "text"
      },
      "source": [
        "Para ejecutar un paso de esta red necesitamos pasar una entrada (en nuestro caso, el\n",
        "Tensor para la letra actual) y un estado oculto anterior (que nosotros\n",
        "inicializar como ceros al principio). Recuperaremos la salida (probabilidad de\n",
        "cada idioma) y un siguiente estado oculto (que guardamos para el próximo\n",
        "paso)."
      ]
    },
    {
      "cell_type": "code",
      "metadata": {
        "id": "zWiTauhejr5d",
        "colab_type": "code",
        "colab": {
          "base_uri": "https://localhost:8080/",
          "height": 357
        },
        "outputId": "81e90ab4-0e72-4691-d889-da4e5abe9650"
      },
      "source": [
        "input = letterToTensor('A')\n",
        "hidden = torch.zeros(1, n_hidden)\n",
        "# Ejecutar el forwardself.softmax(output)\n",
        "output, next_hidden = rnn(input, hidden)\n",
        "\n",
        "print(output)\n",
        "print(next_hidden)"
      ],
      "execution_count": 26,
      "outputs": [
        {
          "output_type": "stream",
          "text": [
            "tensor([[-2.8869, -2.9622, -2.8918, -2.8772, -2.9292, -2.9937, -2.8034, -2.7560,\n",
            "         -2.8232, -2.9297, -2.7561, -2.9163, -2.9479, -2.9674, -2.9579, -2.9174,\n",
            "         -2.8930, -2.8598]], grad_fn=<LogSoftmaxBackward>)\n",
            "tensor([[ 0.0564, -0.0324,  0.0378,  0.0075,  0.0543, -0.0580,  0.0363, -0.0621,\n",
            "         -0.0222,  0.0747,  0.0323,  0.0203, -0.1155, -0.0427, -0.0413,  0.0119,\n",
            "         -0.0125, -0.0207, -0.1135,  0.0794,  0.0170,  0.0607,  0.0002, -0.0272,\n",
            "         -0.0137,  0.0099,  0.0031,  0.0515, -0.0646,  0.0014, -0.0776, -0.0029,\n",
            "         -0.0898,  0.0379, -0.0439,  0.0272,  0.0150,  0.0868,  0.0846,  0.0627,\n",
            "          0.0399,  0.0578,  0.0015, -0.0441, -0.0606, -0.0898,  0.0879,  0.0568,\n",
            "          0.0329,  0.0026,  0.0344,  0.0097, -0.0211, -0.0485,  0.1208,  0.0310,\n",
            "         -0.0048,  0.0451, -0.0308,  0.0087,  0.1019,  0.0197, -0.0236, -0.0356,\n",
            "          0.0210,  0.0110, -0.0299, -0.0180,  0.0240,  0.0270, -0.0456, -0.0681,\n",
            "          0.0016, -0.0214, -0.0355, -0.0208,  0.0474,  0.0133,  0.0117, -0.0391,\n",
            "         -0.0317,  0.1357, -0.0396,  0.0908,  0.0494, -0.0289,  0.0072,  0.0012,\n",
            "         -0.0533,  0.0144,  0.0203,  0.0311,  0.0264, -0.0922,  0.0352, -0.1195,\n",
            "          0.0436,  0.0176,  0.0991,  0.0201, -0.0072, -0.1144, -0.0108, -0.0350,\n",
            "          0.0577, -0.0027,  0.0348, -0.0714,  0.0805, -0.1037,  0.0390, -0.0380,\n",
            "          0.1363,  0.0275, -0.0246, -0.0594,  0.0217,  0.0892, -0.0391,  0.1186,\n",
            "          0.0078,  0.0019,  0.0066, -0.0685,  0.0375, -0.1150, -0.0769, -0.0318]],\n",
            "       grad_fn=<AddmmBackward>)\n"
          ],
          "name": "stdout"
        }
      ]
    },
    {
      "cell_type": "markdown",
      "metadata": {
        "id": "4sYVj4Z4kHqJ",
        "colab_type": "text"
      },
      "source": [
        "Para mejorar la eficiencia no queremos crear un nuevo Tensor para\n",
        "cada paso, así que usaremos ``lineToTensor`` en lugar de\n",
        "``letterToTensor`` y usa *slices*. Esto podría ser optimizado aún más por\n",
        "precomputando lotes de Tensores."
      ]
    },
    {
      "cell_type": "code",
      "metadata": {
        "id": "jQfQchKfkX1J",
        "colab_type": "code",
        "colab": {
          "base_uri": "https://localhost:8080/",
          "height": 357
        },
        "outputId": "b319f8b4-bcb4-431e-d9c2-3558b7392e13"
      },
      "source": [
        "input = letterToTensor('A')\n",
        "hidden = torch.zeros(1, n_hidden)\n",
        "\n",
        "output, next_hidden = rnn(input, hidden)\n",
        "\n",
        "print(output)\n",
        "print(next_hidden)"
      ],
      "execution_count": 34,
      "outputs": [
        {
          "output_type": "stream",
          "text": [
            "tensor([[-2.8869, -2.9622, -2.8918, -2.8772, -2.9292, -2.9937, -2.8034, -2.7560,\n",
            "         -2.8232, -2.9297, -2.7561, -2.9163, -2.9479, -2.9674, -2.9579, -2.9174,\n",
            "         -2.8930, -2.8598]], grad_fn=<LogSoftmaxBackward>)\n",
            "tensor([[ 0.0564, -0.0324,  0.0378,  0.0075,  0.0543, -0.0580,  0.0363, -0.0621,\n",
            "         -0.0222,  0.0747,  0.0323,  0.0203, -0.1155, -0.0427, -0.0413,  0.0119,\n",
            "         -0.0125, -0.0207, -0.1135,  0.0794,  0.0170,  0.0607,  0.0002, -0.0272,\n",
            "         -0.0137,  0.0099,  0.0031,  0.0515, -0.0646,  0.0014, -0.0776, -0.0029,\n",
            "         -0.0898,  0.0379, -0.0439,  0.0272,  0.0150,  0.0868,  0.0846,  0.0627,\n",
            "          0.0399,  0.0578,  0.0015, -0.0441, -0.0606, -0.0898,  0.0879,  0.0568,\n",
            "          0.0329,  0.0026,  0.0344,  0.0097, -0.0211, -0.0485,  0.1208,  0.0310,\n",
            "         -0.0048,  0.0451, -0.0308,  0.0087,  0.1019,  0.0197, -0.0236, -0.0356,\n",
            "          0.0210,  0.0110, -0.0299, -0.0180,  0.0240,  0.0270, -0.0456, -0.0681,\n",
            "          0.0016, -0.0214, -0.0355, -0.0208,  0.0474,  0.0133,  0.0117, -0.0391,\n",
            "         -0.0317,  0.1357, -0.0396,  0.0908,  0.0494, -0.0289,  0.0072,  0.0012,\n",
            "         -0.0533,  0.0144,  0.0203,  0.0311,  0.0264, -0.0922,  0.0352, -0.1195,\n",
            "          0.0436,  0.0176,  0.0991,  0.0201, -0.0072, -0.1144, -0.0108, -0.0350,\n",
            "          0.0577, -0.0027,  0.0348, -0.0714,  0.0805, -0.1037,  0.0390, -0.0380,\n",
            "          0.1363,  0.0275, -0.0246, -0.0594,  0.0217,  0.0892, -0.0391,  0.1186,\n",
            "          0.0078,  0.0019,  0.0066, -0.0685,  0.0375, -0.1150, -0.0769, -0.0318]],\n",
            "       grad_fn=<AddmmBackward>)\n"
          ],
          "name": "stdout"
        }
      ]
    },
    {
      "cell_type": "code",
      "metadata": {
        "id": "csX8raXEZ7kd",
        "colab_type": "code",
        "colab": {
          "base_uri": "https://localhost:8080/",
          "height": 357
        },
        "outputId": "1927fc4f-c85d-41d4-e65c-5901ebecaa54"
      },
      "source": [
        "input = lineToTensor('Alberto')\n",
        "hidden = torch.zeros(1, n_hidden)\n",
        "\n",
        "output, next_hidden = rnn(input[2], hidden)\n",
        "print(output)\n",
        "print(next_hidden)"
      ],
      "execution_count": 28,
      "outputs": [
        {
          "output_type": "stream",
          "text": [
            "tensor([[-2.8247, -2.9862, -2.8463, -2.8597, -2.9071, -2.9484, -2.8753, -2.8354,\n",
            "         -2.9625, -2.9177, -2.7984, -3.0325, -2.8735, -2.8615, -2.9002, -2.8606,\n",
            "         -2.9934, -2.7839]], grad_fn=<LogSoftmaxBackward>)\n",
            "tensor([[-0.0329, -0.0599, -0.0074, -0.0457, -0.0428, -0.0603,  0.0711, -0.0363,\n",
            "          0.0150,  0.0715, -0.0528, -0.0487, -0.0055, -0.0456, -0.0784,  0.0279,\n",
            "         -0.0823, -0.0709, -0.0917,  0.0567, -0.0445, -0.0287, -0.0478,  0.0933,\n",
            "         -0.0157,  0.1263, -0.0352, -0.0408,  0.0090, -0.0332, -0.0111,  0.0385,\n",
            "         -0.1021, -0.0013, -0.0588, -0.0468,  0.0960, -0.0187,  0.0787, -0.0675,\n",
            "          0.0711,  0.0055, -0.0937, -0.0656, -0.0572, -0.0692,  0.1233,  0.0030,\n",
            "          0.0521,  0.0951,  0.0960, -0.0404, -0.0307, -0.0417,  0.0109,  0.1178,\n",
            "          0.0515,  0.0938, -0.0100,  0.0196,  0.0629,  0.0080,  0.0092, -0.1303,\n",
            "          0.0033, -0.0484,  0.0534,  0.0207,  0.0698, -0.0327,  0.0195, -0.0371,\n",
            "         -0.0105, -0.0621,  0.0061,  0.0125, -0.0589,  0.1238, -0.0732,  0.0087,\n",
            "         -0.0343,  0.0324, -0.0421,  0.0516,  0.0303,  0.0286, -0.0891, -0.0024,\n",
            "         -0.0119, -0.0267,  0.0731,  0.1174,  0.0826, -0.0804,  0.0295,  0.0029,\n",
            "          0.1117, -0.0555,  0.0453, -0.0176,  0.0267, -0.1062, -0.0743,  0.0047,\n",
            "         -0.0364, -0.1071, -0.0178, -0.0983, -0.0117,  0.0256,  0.0671, -0.0005,\n",
            "          0.1190,  0.0584,  0.0206,  0.0297, -0.0343,  0.0152, -0.0252,  0.1090,\n",
            "          0.0403,  0.0386, -0.0356, -0.0177,  0.0468, -0.0113, -0.0767, -0.0086]],\n",
            "       grad_fn=<AddmmBackward>)\n"
          ],
          "name": "stdout"
        }
      ]
    },
    {
      "cell_type": "markdown",
      "metadata": {
        "id": "DNHadH4skjwB",
        "colab_type": "text"
      },
      "source": [
        "Como puedes ver, la salida es un tensor ``<1 x n_categories>``, donde\n",
        "cada *item* es la probabilidad de esa categoría (más alta es más probable).\n",
        "\n",
        "## 4. Entrenando la red\n",
        "\n",
        "Preparando los datos\n",
        "--------------------\n",
        "\n",
        "Antes de entrar en el entrenamiento debemos hacer algunas funciones de ayuda. La primera es interpretar el resultado de la red, que sabemos que es una probabilidad de cada categoría. Podemos usar Tensor.topk para obtener el índice de mayor valor:"
      ]
    },
    {
      "cell_type": "code",
      "metadata": {
        "id": "3atWo1eXNl68",
        "colab_type": "code",
        "colab": {
          "base_uri": "https://localhost:8080/",
          "height": 34
        },
        "outputId": "582fd7db-28ce-4423-c4ab-f5b371dedddf"
      },
      "source": [
        "def categoryFromOutput(output):\n",
        "  top_n, top_i = output.topk(1)\n",
        "  category_i = top_i[0].item()\n",
        "  return all_categories[category_i], category_i\n",
        "\n",
        "print(categoryFromOutput(output))"
      ],
      "execution_count": 29,
      "outputs": [
        {
          "output_type": "stream",
          "text": [
            "('Greek', 17)\n"
          ],
          "name": "stdout"
        }
      ]
    },
    {
      "cell_type": "markdown",
      "metadata": {
        "id": "OI1PH7pPNyVk",
        "colab_type": "text"
      },
      "source": [
        "También queremos una forma rápida de obtener un ejemplo de entrenamiento (un nombre y su\n",
        "idioma):"
      ]
    },
    {
      "cell_type": "code",
      "metadata": {
        "id": "9owXNOWBN3Cs",
        "colab_type": "code",
        "colab": {
          "base_uri": "https://localhost:8080/",
          "height": 394
        },
        "outputId": "6768a528-5261-472f-d028-d07e82dc55be"
      },
      "source": [
        "import random\n",
        "\n",
        "# Elige un elemento de lista en forma aleatoria\n",
        "def randomChoice(lista):\n",
        "  return lista[random.randint(0, len(lista)-1)]\n",
        "\n",
        "def randomTrainingExample():\n",
        "  category = randomChoice(all_categories)\n",
        "  # Selecciono la palabra (nombre) de una categoria\n",
        "  line = randomChoice(category_lines[category])\n",
        "  # Convertir tensores\n",
        "  category_tensor = torch.tensor([all_categories.index(category)], dtype=torch.long)\n",
        "  line_tensor = lineToTensor(line)\n",
        "  return category, line, category_tensor, line_tensor\n",
        "\n",
        "print(all_categories)\n",
        "for i in range(20):\n",
        "  category, line, category_tensor, line_tensor = randomTrainingExample()\n",
        "  print('categoria=', category, '/ palabra=', line)"
      ],
      "execution_count": 30,
      "outputs": [
        {
          "output_type": "stream",
          "text": [
            "['Vietnamese', 'Spanish', 'Japanese', 'Korean', 'English', 'Scottish', 'German', 'Irish', 'Chinese', 'Polish', 'Italian', 'Russian', 'Dutch', 'Portuguese', 'French', 'Czech', 'Arabic', 'Greek']\n",
            "categoria= Italian / palabra= Abatescianni\n",
            "categoria= Russian / palabra= Poryvaev\n",
            "categoria= Japanese / palabra= Fukuyama\n",
            "categoria= Portuguese / palabra= Cruz\n",
            "categoria= Russian / palabra= Priemyhov\n",
            "categoria= Czech / palabra= Nadwornik\n",
            "categoria= Vietnamese / palabra= Thach\n",
            "categoria= Dutch / palabra= Sneijder\n",
            "categoria= Chinese / palabra= Rong\n",
            "categoria= Polish / palabra= Wronski\n",
            "categoria= Polish / palabra= Ziemniak\n",
            "categoria= Dutch / palabra= Offermans\n",
            "categoria= Chinese / palabra= Luo\n",
            "categoria= Arabic / palabra= Haik\n",
            "categoria= Vietnamese / palabra= Vuu\n",
            "categoria= Vietnamese / palabra= Ma\n",
            "categoria= French / palabra= Chastain\n",
            "categoria= Polish / palabra= Bukowski\n",
            "categoria= Spanish / palabra= Avana\n",
            "categoria= English / palabra= Myers\n"
          ],
          "name": "stdout"
        }
      ]
    },
    {
      "cell_type": "markdown",
      "metadata": {
        "id": "2fN8ruQMOBtN",
        "colab_type": "text"
      },
      "source": [
        "Entrenamiento de la red\n",
        "--------------------\n",
        "\n",
        "Ahora todo lo que se necesita para entrenar a esta red es mostrarle un montón de ejemplos.\n",
        "\n",
        "Para la función de pérdida `n.NLLLoss` es apropiado, ya que la última\n",
        "La capa del RNN es `nn.LogSoftmax`."
      ]
    },
    {
      "cell_type": "code",
      "metadata": {
        "id": "ZRP2IuHrOSTQ",
        "colab_type": "code",
        "colab": {}
      },
      "source": [
        "criterion = nn.NLLLoss()"
      ],
      "execution_count": 31,
      "outputs": []
    },
    {
      "cell_type": "markdown",
      "metadata": {
        "id": "J6zoXfiPOW7s",
        "colab_type": "text"
      },
      "source": [
        "Cada ciclo de entrenamiento hará:\n",
        "\n",
        "1. Crear tensores de entrada y de destino\n",
        "\n",
        "2. Crear un estado inicial oculto igual a cero\n",
        "\n",
        "3. Leer cada letra y mantener el estado oculto para la próxima letra.\n",
        "\n",
        "4. Comparar el resultado final con el objetivo\n",
        "\n",
        "5. *Back-propagate*\n",
        "\n",
        "6. Devolver la salida y la pérdida"
      ]
    },
    {
      "cell_type": "code",
      "metadata": {
        "id": "FdPmWvvoPHpV",
        "colab_type": "code",
        "colab": {}
      },
      "source": [
        "learning_rate = 0.005\n",
        "\n",
        "def train(category_tensor, line_tensor):\n",
        "  # Inicializar la capa hidden en cero\n",
        "  hidden = rnn.initHidden()\n",
        "\n",
        "  rnn.zero_grad()\n",
        "\n",
        "  for i in range(line_tensor.size()[0]):\n",
        "    output, hidden = rnn(line_tensor[i], hidden)\n",
        "\n",
        "  loss = criterion(output, category_tensor)\n",
        "  loss.backward()\n",
        "\n",
        "  # Actualizar los parametros del modelo\n",
        "  for p in rnn.parameters():\n",
        "    p.data.add_(p.grad.data, alpha=-learning_rate)\n",
        "\n",
        "  return output, loss.item()"
      ],
      "execution_count": 32,
      "outputs": []
    },
    {
      "cell_type": "markdown",
      "metadata": {
        "id": "x8idXbiLPMCt",
        "colab_type": "text"
      },
      "source": [
        "Ahora sólo tenemos que correr esto con un montón de ejemplos. Como la función del entrenamiento devuelve tanto la salida como la pérdida, podemos imprimir sus predicciones y también llevar la cuenta de la pérdida. Ya que hay miles de ejemplos, imprimimos sólo cada uno de ellos y tomamos un promedio de la pérdida."
      ]
    },
    {
      "cell_type": "code",
      "metadata": {
        "id": "hsSnEVMnPmjF",
        "colab_type": "code",
        "colab": {
          "base_uri": "https://localhost:8080/",
          "height": 357
        },
        "outputId": "5f76e8e8-9740-444c-848d-38955e027498"
      },
      "source": [
        "import time\n",
        "import math\n",
        "\n",
        "n_iters = 100000\n",
        "print_every = 5000\n",
        "plot_every = 1000\n",
        "\n",
        "# Guardamos la perdida\n",
        "current_loss = 0\n",
        "all_losses = []\n",
        "\n",
        "def timeSince(since):\n",
        "  now = time.time()\n",
        "  s = now -since\n",
        "  m = math.floor(s/60)\n",
        "  s -= m *60\n",
        "  return '%dm %ds' % (m, s)\n",
        "\n",
        "start = time.time()\n",
        "\n",
        "for iter in range(1, n_iters + 1):\n",
        "  # Obtener una categoria y una palabra de forma aleatoria\n",
        "  category, line, category_tensor, line_tensor = randomTrainingExample()\n",
        "  output, loss = train(category_tensor, line_tensor)\n",
        "  current_loss += loss\n",
        "\n",
        "  # Imprimir los resultados\n",
        "  if iter % print_every == 0: \n",
        "    guess, guess_i = categoryFromOutput(output)\n",
        "    correct = 'OK' if guess == category else 'ERROR (%s)' % category\n",
        "    print('%d %d%% (%s) %.4f %s / %s %s' % (iter, iter/n_iters * 100, timeSince(start),loss, line, guess, correct))\n",
        "\n",
        "  if iter % plot_every == 0:\n",
        "    all_losses.append(current_loss / plot_every)\n",
        "    current_loss = 0"
      ],
      "execution_count": 15,
      "outputs": [
        {
          "output_type": "stream",
          "text": [
            "5000 5% (0m 5s) 1.8434 Chukhonkin / Russian OK\n",
            "10000 10% (0m 10s) 3.0043 Desrosiers / Greek ERROR (French)\n",
            "15000 15% (0m 16s) 1.1549 Africani / Italian OK\n",
            "20000 20% (0m 22s) 3.3567 Fava / Japanese ERROR (Italian)\n",
            "25000 25% (0m 27s) 1.4744 Lambert / French OK\n",
            "30000 30% (0m 33s) 1.6270 Robledo / Italian ERROR (Spanish)\n",
            "35000 35% (0m 38s) 3.5637 Morgenstern / Dutch ERROR (German)\n",
            "40000 40% (0m 43s) 0.4396 Tieu / Vietnamese OK\n",
            "45000 45% (0m 49s) 1.9766 Moreno / Spanish ERROR (Portuguese)\n",
            "50000 50% (0m 54s) 2.3037 Nifterik / Czech ERROR (Dutch)\n",
            "55000 55% (1m 0s) 2.3029 Sabbadin / Russian ERROR (Italian)\n",
            "60000 60% (1m 5s) 0.8832 Hirose / Japanese OK\n",
            "65000 65% (1m 11s) 0.4270 Benivieni / Italian OK\n",
            "70000 70% (1m 16s) 0.5289 Jarov / Russian OK\n",
            "75000 75% (1m 21s) 1.1481 Atiyeh / Arabic OK\n",
            "80000 80% (1m 26s) 0.0102 Haziahmetov / Russian OK\n",
            "85000 85% (1m 31s) 1.2355 Chermak / Czech OK\n",
            "90000 90% (1m 37s) 1.8859 Dubois / Greek ERROR (French)\n",
            "95000 95% (1m 42s) 0.4467 Asahara / Japanese OK\n",
            "100000 100% (1m 48s) 1.9886 Tovey / Spanish ERROR (English)\n"
          ],
          "name": "stdout"
        }
      ]
    },
    {
      "cell_type": "markdown",
      "metadata": {
        "id": "TkGnsConPpG1",
        "colab_type": "text"
      },
      "source": [
        "## 5. Graficando los resultados\n",
        "\n",
        "Graficar la pérdida histórica de `all_loses` muestra el aprendizaje de la red."
      ]
    },
    {
      "cell_type": "code",
      "metadata": {
        "id": "okJbnsOeP8S2",
        "colab_type": "code",
        "colab": {
          "base_uri": "https://localhost:8080/",
          "height": 282
        },
        "outputId": "3d44a46b-22a0-43be-db49-57f3aaaa7b8e"
      },
      "source": [
        "import matplotlib.pyplot as plt\n",
        "import matplotlib.ticker as ticker\n",
        "\n",
        "plt.figure()\n",
        "plt.plot(all_losses)"
      ],
      "execution_count": 16,
      "outputs": [
        {
          "output_type": "execute_result",
          "data": {
            "text/plain": [
              "[<matplotlib.lines.Line2D at 0x7f3ddbf57780>]"
            ]
          },
          "metadata": {
            "tags": []
          },
          "execution_count": 16
        },
        {
          "output_type": "display_data",
          "data": {
            "image/png": "[encoded data removed]",
            "text/plain": [
              "<Figure size 432x288 with 1 Axes>"
            ]
          },
          "metadata": {
            "tags": [],
            "needs_background": "light"
          }
        }
      ]
    },
    {
      "cell_type": "markdown",
      "metadata": {
        "id": "ghIyV3qMQBul",
        "colab_type": "text"
      },
      "source": [
        "# 6. Evaluando los resultados\n",
        "\n",
        "Para ver cómo funciona la red en diferentes categorías, vamos a\n",
        "crear una **matriz de confusión**, indicando para cada idioma real (filas)\n",
        "qué idioma adivina la red (columnas). Para calcular la confusión\n",
        "matriz un montón de muestras se ejecutan a través de la red con\n",
        "`Evaluar`, que es lo mismo que `Entrenar`, menos el respaldo."
      ]
    },
    {
      "cell_type": "code",
      "metadata": {
        "id": "Nvw2_qg-QY3G",
        "colab_type": "code",
        "colab": {
          "base_uri": "https://localhost:8080/",
          "height": 320
        },
        "outputId": "fb59d2ff-006f-424d-8cbe-63d03322fc50"
      },
      "source": [
        "# Keep track of correct guesses in a confusion matrix\n",
        "confusion = torch.zeros(n_categories, n_categories)\n",
        "n_confusion = 10000\n",
        "\n",
        "# Just return an output given a line\n",
        "def evaluate(line_tensor):\n",
        "    hidden = rnn.initHidden()\n",
        "\n",
        "    for i in range(line_tensor.size()[0]):\n",
        "        output, hidden = rnn(line_tensor[i], hidden)\n",
        "\n",
        "    return output\n",
        "\n",
        "# Go through a bunch of examples and record which are correctly guessed\n",
        "for i in range(n_confusion):\n",
        "    category, line, category_tensor, line_tensor = randomTrainingExample()\n",
        "    output = evaluate(line_tensor)\n",
        "    guess, guess_i = categoryFromOutput(output)\n",
        "    category_i = all_categories.index(category)\n",
        "    confusion[category_i][guess_i] += 1\n",
        "\n",
        "# Normalize by dividing every row by its sum\n",
        "for i in range(n_categories):\n",
        "    confusion[i] = confusion[i] / confusion[i].sum()\n",
        "\n",
        "# Set up plot\n",
        "fig = plt.figure()\n",
        "ax = fig.add_subplot(111)\n",
        "cax = ax.matshow(confusion.numpy())\n",
        "fig.colorbar(cax)\n",
        "\n",
        "# Set up axes\n",
        "ax.set_xticklabels([''] + all_categories, rotation=90)\n",
        "ax.set_yticklabels([''] + all_categories)\n",
        "\n",
        "# Force label at every tick\n",
        "ax.xaxis.set_major_locator(ticker.MultipleLocator(1))\n",
        "ax.yaxis.set_major_locator(ticker.MultipleLocator(1))\n",
        "\n",
        "# sphinx_gallery_thumbnail_number = 2\n",
        "plt.show()"
      ],
      "execution_count": 17,
      "outputs": [
        {
          "output_type": "display_data",
          "data": {
            "image/png": "[encoded data removed]",
            "text/plain": [
              "<Figure size 432x288 with 2 Axes>"
            ]
          },
          "metadata": {
            "tags": [],
            "needs_background": "light"
          }
        }
      ]
    },
    {
      "cell_type": "markdown",
      "metadata": {
        "id": "676JMowHQdNN",
        "colab_type": "text"
      },
      "source": [
        "Puedes elegir los puntos más brillantes en el eje principal que muestren qué\n",
        "idiomas que adivina incorrectamente, por ejemplo, el chino para el coreano, y el español para el italiano. Parece que le va muy bien con el griego, y muy mal con Inglés (tal vez debido a la superposición con otros idiomas)."
      ]
    },
    {
      "cell_type": "code",
      "metadata": {
        "id": "HkdPiWitQugn",
        "colab_type": "code",
        "colab": {
          "base_uri": "https://localhost:8080/",
          "height": 357
        },
        "outputId": "1c1a8bbe-92fb-49b8-dcd5-b0455054eb77"
      },
      "source": [
        "def predict(input_line, n_predictions=3):\n",
        "    print('\\n> %s' % input_line)\n",
        "    with torch.no_grad():\n",
        "        output = evaluate(lineToTensor(input_line))\n",
        "\n",
        "        # Get top N categories\n",
        "        topv, topi = output.topk(n_predictions, 1, True)\n",
        "        predictions = []\n",
        "\n",
        "        for i in range(n_predictions):\n",
        "            value = topv[0][i].item()\n",
        "            category_index = topi[0][i].item()\n",
        "            print('(%.2f) %s' % (value, all_categories[category_index]))\n",
        "            predictions.append([value, all_categories[category_index]])\n",
        "\n",
        "predict('Dovesky')\n",
        "predict('Jackson')\n",
        "predict('Satoshi')\n",
        "predict('Bekios')"
      ],
      "execution_count": 18,
      "outputs": [
        {
          "output_type": "stream",
          "text": [
            "\n",
            "> Dovesky\n",
            "(-0.36) Russian\n",
            "(-1.50) Czech\n",
            "(-3.51) English\n",
            "\n",
            "> Jackson\n",
            "(-0.33) Scottish\n",
            "(-1.95) English\n",
            "(-2.90) Russian\n",
            "\n",
            "> Satoshi\n",
            "(-0.84) Japanese\n",
            "(-1.73) Polish\n",
            "(-1.82) Italian\n",
            "\n",
            "> Bekios\n",
            "(-0.39) Greek\n",
            "(-2.80) English\n",
            "(-2.99) Dutch\n"
          ],
          "name": "stdout"
        }
      ]
    },
    {
      "cell_type": "markdown",
      "metadata": {
        "id": "dXkRhsgbQ98e",
        "colab_type": "text"
      },
      "source": [
        "La versión completa del código la pueden revisar en <https://github.com/spro/practical-pytorch/tree/master/char-rnn-classification>`"
      ]
    }
  ]
}