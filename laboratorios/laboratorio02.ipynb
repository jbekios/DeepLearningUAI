{
  "nbformat": 4,
  "nbformat_minor": 0,
  "metadata": {
    "colab": {
      "name": "laboratorio02.ipynb",
      "provenance": []
    },
    "kernelspec": {
      "name": "python3",
      "display_name": "Python 3"
    }
  },
  "cells": [
    {
      "cell_type": "markdown",
      "metadata": {
        "id": "qk5j4fyM-Kwr",
        "colab_type": "text"
      },
      "source": [
        "# Taller 02: Redes recurrentes\n",
        "\n",
        "**Integrantes:** (*Máximo grupos de 3*)\n",
        "\n",
        "*   <Integrante 1>\n",
        "*   <Integrante 2>\n",
        "*   <Integrante 3>\n",
        "\n",
        "\n",
        "\n",
        "El taller tiene como objetivo construir un clasificador utilizando redes recurrentes LSTM. Para esto, se replicará el problema visto en clases para la clasificación de nombres y apellidos al País que pertenecen. Una vez terminado la implementación del taller se pide comparar la eficiencia de ambos clasificadores a partir de la matriz de confusión.\n",
        "\n",
        "Se debe tener en cuenta que en la evaluación de resultados se deben utilizar los mismos ejemplos. Por lo que deberá evaluar simultáneamente el clasificador de red recurrente simple y la red LSTM.\n",
        "\n",
        "Las métricas solicitadas para la comparación de ambos clasifificadores son: Tasa de acierto, presición, sensibilidad (*recall*) y f1-score.\n",
        "\n",
        "**Referencias:**\n",
        "https://scikit-learn.org/stable/modules/generated/sklearn.metrics.classification_report.html#sklearn.metrics.classification_report \n",
        "\n",
        "## 1. Preparar los datos\n",
        "\n",
        "Utilizar el código mostrado en clases para cargar y acondicionar los datos:"
      ]
    },
    {
      "cell_type": "code",
      "metadata": {
        "id": "ZFh-d6Zh-JqV",
        "colab_type": "code",
        "colab": {}
      },
      "source": [
        ""
      ],
      "execution_count": null,
      "outputs": []
    },
    {
      "cell_type": "markdown",
      "metadata": {
        "id": "f1VKQpg9FDAo",
        "colab_type": "text"
      },
      "source": [
        "## 2. Preparar los datos a formato Pytorch para red neuronal recurrente\n",
        "\n",
        "Convertirmos las palabras (apellidos y nombres) a formato ***one-hot vector***. Además se contruye a formato tensor para poder utilizar la GPU vía Pytorch."
      ]
    },
    {
      "cell_type": "code",
      "metadata": {
        "id": "5vmM0ErjFD56",
        "colab_type": "code",
        "colab": {}
      },
      "source": [
        ""
      ],
      "execution_count": null,
      "outputs": []
    },
    {
      "cell_type": "markdown",
      "metadata": {
        "id": "5OTG_c0lFvju",
        "colab_type": "text"
      },
      "source": [
        "## 3. Crear modelos\n",
        "\n",
        "Para comparar los resultados se pide construir:\n",
        "\n",
        "\n",
        "*   Modelo de red neuronal recurrente simple (vista en clases)\n",
        "*   Modelo de red neuronal LSTM (Implementar)\n",
        "\n"
      ]
    },
    {
      "cell_type": "code",
      "metadata": {
        "id": "K7lCD86jGKrS",
        "colab_type": "code",
        "colab": {}
      },
      "source": [
        "# Modelo de red neuronal recurrente simple"
      ],
      "execution_count": null,
      "outputs": []
    },
    {
      "cell_type": "code",
      "metadata": {
        "id": "upQQez_FGLBV",
        "colab_type": "code",
        "colab": {}
      },
      "source": [
        "# Modelo de red neuronal LSTM"
      ],
      "execution_count": null,
      "outputs": []
    },
    {
      "cell_type": "markdown",
      "metadata": {
        "id": "6i1RvGipGRti",
        "colab_type": "text"
      },
      "source": [
        "## 5. Generación de ejemplos aleatorios\n",
        "\n",
        "Como se tienen diferentes palabras y categorías es que se optó por utilizar ejemplos generados de forma aleatoria. \n",
        "\n",
        "Para entrenar los modelos utilizaremos los mismo ejemplos generados por `randomChoiceExample`. Se debe considerar está condición en la implementación."
      ]
    },
    {
      "cell_type": "code",
      "metadata": {
        "id": "CQsL8tzxG5P7",
        "colab_type": "code",
        "colab": {}
      },
      "source": [
        "# Implementación randomTrainingExample()"
      ],
      "execution_count": null,
      "outputs": []
    },
    {
      "cell_type": "markdown",
      "metadata": {
        "id": "tu2TrVbyHA3S",
        "colab_type": "text"
      },
      "source": [
        "## 6. Entrenamiento de los modelos\n",
        "\n",
        "Para el entrenamiento se utilizarán los **mismos parámetros utilizados en clases para entrenar ambos modelos**. Se recomienda entrenar ambos modelos en el mismo ciclo.\n"
      ]
    },
    {
      "cell_type": "code",
      "metadata": {
        "id": "a1mhSDxYIXdJ",
        "colab_type": "code",
        "colab": {}
      },
      "source": [
        "# Definir función de pérdida para ambos modelos\n",
        "\n",
        "# Definir tasa de aprendizaje\n",
        "\n",
        "# Función de entrenamiento RNN\n",
        "\n",
        "# Función de entrenamiento LSTM\n",
        "\n",
        "# Entrenamiento "
      ],
      "execution_count": null,
      "outputs": []
    },
    {
      "cell_type": "markdown",
      "metadata": {
        "id": "9AKt-EeCIwJl",
        "colab_type": "text"
      },
      "source": [
        "## 7. Graficar resultados\n",
        "\n",
        "Graficar la función de pérdida para ambos modelos."
      ]
    },
    {
      "cell_type": "code",
      "metadata": {
        "id": "eccpj6bhI8sT",
        "colab_type": "code",
        "colab": {}
      },
      "source": [
        ""
      ],
      "execution_count": null,
      "outputs": []
    },
    {
      "cell_type": "markdown",
      "metadata": {
        "id": "Wxg3W7fKI91r",
        "colab_type": "text"
      },
      "source": [
        "### 7.1 Comparar los resultados\n",
        "\n",
        "<< Discutir los resultados obtenidos en las gráficas>>"
      ]
    },
    {
      "cell_type": "markdown",
      "metadata": {
        "id": "RF-bEDB0JGsb",
        "colab_type": "text"
      },
      "source": [
        "## 8. Evaluar los resultados\n",
        "\n",
        "Construir las **matrices de confusión** para los dos modelos (RNN y LSTM). Indicando en cada fila el idioma real y en las columnas el idioma predicho. Graficar matriz de confusión como la vista en clases."
      ]
    },
    {
      "cell_type": "code",
      "metadata": {
        "id": "mQBN_Xh5Jjfg",
        "colab_type": "code",
        "colab": {}
      },
      "source": [
        ""
      ],
      "execution_count": null,
      "outputs": []
    },
    {
      "cell_type": "markdown",
      "metadata": {
        "id": "XuNyyDkvJlm8",
        "colab_type": "text"
      },
      "source": [
        "### 8.1 Calcular métricas\n",
        "\n",
        "Calcular tasa de acierto, presición, sensibilidad (recall) y f1-score para ambos modelos. Comparar sus resultados\n",
        "\n",
        "### 8.2 Comparar resultados\n",
        "\n",
        "<< Explicar resultados>>"
      ]
    },
    {
      "cell_type": "markdown",
      "metadata": {
        "id": "wS0Kj_8vKFQ1",
        "colab_type": "text"
      },
      "source": [
        "## 9. Probar ambos modelos\n",
        "\n",
        "Probar ambos modelos con las palabras: Dovesky, Jackson, Satoshi, Bekios y su apellido o nombre."
      ]
    },
    {
      "cell_type": "code",
      "metadata": {
        "id": "Ksh3aK-MKXp0",
        "colab_type": "code",
        "colab": {}
      },
      "source": [
        ""
      ],
      "execution_count": null,
      "outputs": []
    }
  ]
}